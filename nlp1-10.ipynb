{
 "cells": [
  {
   "attachments": {},
   "cell_type": "markdown",
   "metadata": {},
   "source": [
    "### 00. 文字列の逆順\n",
    "文字列”stressed”の文字を逆に（末尾から先頭に向かって）並べた文字列を得よ"
   ]
  },
  {
   "cell_type": "code",
   "execution_count": 1,
   "metadata": {},
   "outputs": [
    {
     "name": "stdout",
     "output_type": "stream",
     "text": [
      "desserts\n"
     ]
    }
   ],
   "source": [
    "string = \"stressed\"\n",
    "string_reverse = string[::-1]\n",
    "\n",
    "\n",
    "print(string_reverse)"
   ]
  },
  {
   "attachments": {},
   "cell_type": "markdown",
   "metadata": {},
   "source": [
    "### 01. 「パタトクカシーー」\n",
    "「パタトクカシーー」という文字列の1,3,5,7文字目を取り出して連結した文字列を得よ．"
   ]
  },
  {
   "cell_type": "code",
   "execution_count": 2,
   "metadata": {},
   "outputs": [
    {
     "name": "stdout",
     "output_type": "stream",
     "text": [
      "パトカー\n"
     ]
    }
   ],
   "source": [
    "string = \"パタトクカシーー\"\n",
    "skip_string = string[::2]\n",
    "\n",
    "print(skip_string)"
   ]
  },
  {
   "attachments": {},
   "cell_type": "markdown",
   "metadata": {},
   "source": [
    "### 02. 「パトカー」＋「タクシー」＝「パタトクカシーー」\n",
    "「パトカー」＋「タクシー」の文字を先頭から交互に連結して文字列「パタトクカシーー」を得よ"
   ]
  },
  {
   "cell_type": "code",
   "execution_count": 3,
   "metadata": {},
   "outputs": [
    {
     "name": "stdout",
     "output_type": "stream",
     "text": [
      "パタトクカシーー\n"
     ]
    }
   ],
   "source": [
    "police_car = \"パトカー\"\n",
    "taxi = \"タクシー\"\n",
    "string = \"\"\n",
    "\n",
    "for i in range(4):\n",
    "    string += police_car[i] + taxi[i]\n",
    "\n",
    "print(string)"
   ]
  },
  {
   "attachments": {},
   "cell_type": "markdown",
   "metadata": {},
   "source": [
    "### ↓模範解答\n",
    "\n",
    "#### joinメソッド\n",
    "文字列メソッドjoin()を使うと、文字列のリストを一つの文字列に連結できる。  \n",
    "使い方  \n",
    "`'間に挿入する文字列'.join([連結したい文字列のリスト])`  \n",
    "'間に挿入する文字列'でjoin()メソッドを呼び出し、引数として[連結したい文字列のリスト]を渡す。  \n",
    "空文字列''を使えば[連結したい文字列のリスト]が単純連結されるし、カンマ,を使えばカンマ区切りの文字列となり、改行文字\\nを使えば文字列要素ごとに改行される。  \n",
    "[joinメソッド](https://note.nkmk.me/python-string-concat/)\n",
    "\n",
    "#### zip関数\n",
    "forループの中で複数のイテラブルオブジェクト（リストやタプルなど）の要素を同時に取得して使いたい場合は、zip()関数の引数にそれらを指定する。  \n",
    "```\n",
    "names = ['Alice', 'Bob', 'Charlie']\n",
    "ages = [24, 50, 18]\n",
    "\n",
    "for name, age in zip(names, ages):\n",
    "    print(name, age)\n",
    "# Alice 24\n",
    "# Bob 50\n",
    "# Charlie 18\n",
    "```\n",
    "2つだけでなく、3つ以上でも同様。  \n",
    "```\n",
    "points = [100, 85, 90]\n",
    "\n",
    "for name, age, point in zip(names, ages, points):\n",
    "    print(name, age, point)\n",
    "# Alice 24 100\n",
    "# Bob 50 85\n",
    "# Charlie 18 90\n",
    "```\n",
    "[zip関数](https://note.nkmk.me/python-zip-usage-for/)"
   ]
  },
  {
   "cell_type": "code",
   "execution_count": 1,
   "metadata": {},
   "outputs": [
    {
     "name": "stdout",
     "output_type": "stream",
     "text": [
      "パタトクカシーー\n"
     ]
    }
   ],
   "source": [
    "police_car = \"パトカー\"\n",
    "taxi = \"タクシー\"\n",
    "\n",
    "string = \"\".join([i + j for i, j in zip(police_car, taxi)])\n",
    "\n",
    "print(string)"
   ]
  },
  {
   "attachments": {},
   "cell_type": "markdown",
   "metadata": {},
   "source": [
    "### 03. 円周率Permalink\n",
    "“Now I need a drink, alcoholic of course, after the heavy lectures involving quantum mechanics.”  \n",
    "という文を単語に分解し，各単語の（アルファベットの）文字数を先頭から出現順に並べたリストを作成せよ．"
   ]
  },
  {
   "cell_type": "code",
   "execution_count": 10,
   "metadata": {},
   "outputs": [
    {
     "name": "stdout",
     "output_type": "stream",
     "text": [
      "['Now', 'I', 'need', 'a', 'drink', 'alcoholic', 'of', 'course', 'after', 'the', 'heavy', 'lectures', 'involving', 'quantum', 'mechanics']\n",
      "[3, 1, 4, 1, 5, 9, 2, 6, 5, 3, 5, 8, 9, 7, 9]\n"
     ]
    }
   ],
   "source": [
    "import re\n",
    "\n",
    "sentence = \"Now I need a drink, alcoholic of course, after the heavy lectures involving quantum mechanics.\"\n",
    "sentence = re.sub(\"[,\\.]\", \"\", sentence)\n",
    "word_count_list = []\n",
    "\n",
    "word = sentence.split(\" \")\n",
    "print(word)\n",
    "\n",
    "for count in word:\n",
    "    word_count_list.append(len(count))\n",
    "\n",
    "print(word_count_list)"
   ]
  },
  {
   "cell_type": "code",
   "execution_count": null,
   "metadata": {},
   "outputs": [],
   "source": []
  }
 ],
 "metadata": {
  "kernelspec": {
   "display_name": "Python 3",
   "language": "python",
   "name": "python3"
  },
  "language_info": {
   "codemirror_mode": {
    "name": "ipython",
    "version": 3
   },
   "file_extension": ".py",
   "mimetype": "text/x-python",
   "name": "python",
   "nbconvert_exporter": "python",
   "pygments_lexer": "ipython3",
   "version": "3.9.6"
  },
  "orig_nbformat": 4
 },
 "nbformat": 4,
 "nbformat_minor": 2
}
